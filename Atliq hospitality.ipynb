{
  "nbformat": 4,
  "nbformat_minor": 0,
  "metadata": {
    "colab": {
      "private_outputs": true,
      "provenance": [],
      "collapsed_sections": [
        "nRSX23d8XC_c"
      ]
    },
    "kernelspec": {
      "name": "python3",
      "display_name": "Python 3"
    },
    "language_info": {
      "name": "python"
    }
  },
  "cells": [
    {
      "cell_type": "markdown",
      "source": [
        "#imported Libraries"
      ],
      "metadata": {
        "id": "JSm29l1FQNWb"
      }
    },
    {
      "cell_type": "code",
      "execution_count": null,
      "metadata": {
        "id": "coPXG4bnDBPe"
      },
      "outputs": [],
      "source": [
        "import pandas as pd\n",
        "import numpy as np\n",
        "import matplotlib.pyplot as plt\n",
        "import seaborn as sns\n",
        "import plotly.express as px\n",
        "import plotly.graph_objects as go\n",
        "from plotly.subplots import make_subplots"
      ]
    },
    {
      "cell_type": "markdown",
      "source": [
        "# Date"
      ],
      "metadata": {
        "id": "a_OotTq-zlbt"
      }
    },
    {
      "cell_type": "code",
      "source": [
        "date=pd.read_csv('/content/drive/MyDrive/ATLIQ HOSPITALITY/dim_date.csv')\n",
        "date.head()"
      ],
      "metadata": {
        "id": "RZ1N_0n7DkJ7"
      },
      "execution_count": null,
      "outputs": []
    },
    {
      "cell_type": "code",
      "source": [
        "date.info()"
      ],
      "metadata": {
        "id": "fuWacGMsD6yW"
      },
      "execution_count": null,
      "outputs": []
    },
    {
      "cell_type": "code",
      "source": [
        "import datetime as dt"
      ],
      "metadata": {
        "id": "pHqjIeIRFAzW"
      },
      "execution_count": null,
      "outputs": []
    },
    {
      "cell_type": "code",
      "source": [
        "def convert_date(date):\n",
        "  return dt.datetime.strptime(date,'%d-%b-%y')\n",
        "date['date']=date['date'].apply(convert_date)"
      ],
      "metadata": {
        "id": "nq808UPYF0fR"
      },
      "execution_count": null,
      "outputs": []
    },
    {
      "cell_type": "code",
      "source": [
        "date.insert(loc=1, column=\"month\", value=date['date'].dt.month_name())\n",
        "date.insert(loc=2, column=\"year\", value=date['date'].dt.year)\n",
        "date.insert(loc=3, column=\"day\", value=date['date'].dt.day_name())"
      ],
      "metadata": {
        "id": "7yunTIpmFUdp"
      },
      "execution_count": null,
      "outputs": []
    },
    {
      "cell_type": "code",
      "source": [
        "date.drop('mmm yy',axis=1,inplace=True)"
      ],
      "metadata": {
        "id": "9XSlx8NGMtV5"
      },
      "execution_count": null,
      "outputs": []
    },
    {
      "cell_type": "code",
      "source": [
        "date.head()"
      ],
      "metadata": {
        "id": "1humNDIfKSzN"
      },
      "execution_count": null,
      "outputs": []
    },
    {
      "cell_type": "code",
      "source": [
        "date.info()"
      ],
      "metadata": {
        "id": "Gu2FuzL2N_8e"
      },
      "execution_count": null,
      "outputs": []
    },
    {
      "cell_type": "code",
      "source": [
        "date['year'].unique()"
      ],
      "metadata": {
        "id": "yH-Pun1mLeXk"
      },
      "execution_count": null,
      "outputs": []
    },
    {
      "cell_type": "code",
      "source": [
        "date['month'].unique()"
      ],
      "metadata": {
        "id": "GtYlZMarLyFC"
      },
      "execution_count": null,
      "outputs": []
    },
    {
      "cell_type": "code",
      "source": [
        "date['day_type']=date['day_type'].astype('category')"
      ],
      "metadata": {
        "id": "DjI5X7B2MN59"
      },
      "execution_count": null,
      "outputs": []
    },
    {
      "cell_type": "code",
      "source": [
        "date.duplicated().sum()"
      ],
      "metadata": {
        "id": "qvRsZUYDxJLD"
      },
      "execution_count": null,
      "outputs": []
    },
    {
      "cell_type": "markdown",
      "source": [
        "✈ **Conclusion**\n",
        "*   Data of date file is of may-2022 to july-2022\n",
        "\n"
      ],
      "metadata": {
        "id": "UZN3cwG5LqeO"
      }
    },
    {
      "cell_type": "markdown",
      "source": [
        "# hotels\n"
      ],
      "metadata": {
        "id": "jPI9_SDMQQ-v"
      }
    },
    {
      "cell_type": "code",
      "source": [
        "hotels=pd.read_csv('/content/drive/MyDrive/ATLIQ HOSPITALITY/dim_hotels.csv')\n",
        "hotels.head()"
      ],
      "metadata": {
        "id": "oySgZ5HyQa1a"
      },
      "execution_count": null,
      "outputs": []
    },
    {
      "cell_type": "code",
      "source": [
        "hotels.info()"
      ],
      "metadata": {
        "id": "3q3QGR7dQuT6"
      },
      "execution_count": null,
      "outputs": []
    },
    {
      "cell_type": "code",
      "source": [
        "prop_name=list(hotels['property_name'].unique())\n",
        "cate_name=list(hotels['category'].unique())\n",
        "city_name=list(hotels['city'].unique())\n"
      ],
      "metadata": {
        "id": "_ls8FewyQy2Q"
      },
      "execution_count": null,
      "outputs": []
    },
    {
      "cell_type": "code",
      "source": [
        "print('property name :',prop_name)\n",
        "print('category name :',cate_name)\n",
        "print('city mane :',city_name)"
      ],
      "metadata": {
        "id": "rsqYQm9eRhk7"
      },
      "execution_count": null,
      "outputs": []
    },
    {
      "cell_type": "code",
      "source": [
        "hotels.groupby(['city','property_name'])"
      ],
      "metadata": {
        "id": "sc6KxlFJ3w12"
      },
      "execution_count": null,
      "outputs": []
    },
    {
      "cell_type": "code",
      "source": [
        "hotels['category']=hotels['category'].astype('category')\n",
        "hotels['city']=hotels['city'].astype('category')"
      ],
      "metadata": {
        "id": "YMtq72PZSJRi"
      },
      "execution_count": null,
      "outputs": []
    },
    {
      "cell_type": "code",
      "source": [
        "hotels.head()"
      ],
      "metadata": {
        "id": "_et-PlxGRnzn"
      },
      "execution_count": null,
      "outputs": []
    },
    {
      "cell_type": "code",
      "source": [
        "hotels.duplicated().sum()"
      ],
      "metadata": {
        "id": "xYElc0LRxArr"
      },
      "execution_count": null,
      "outputs": []
    },
    {
      "cell_type": "markdown",
      "source": [
        "✈ **Conclusion**\n",
        "*   **city name** : ['Delhi', 'Mumbai', 'Hyderabad', 'Bangalore']\n",
        "*  **property name** : ['Atliq Grands', 'Atliq Exotica', 'Atliq City', 'Atliq Blu', 'Atliq Bay', 'Atliq Palace', 'Atliq Seasons']\n",
        "*   **category name** : ['Luxury', 'Business']\n",
        "\n"
      ],
      "metadata": {
        "id": "15UCkkoL0rzT"
      }
    },
    {
      "cell_type": "markdown",
      "source": [
        "# room"
      ],
      "metadata": {
        "id": "nRSX23d8XC_c"
      }
    },
    {
      "cell_type": "code",
      "source": [
        "room=pd.read_csv('/content/drive/MyDrive/ATLIQ HOSPITALITY/dim_rooms.csv')\n",
        "room"
      ],
      "metadata": {
        "id": "DLwz1A5XXKTv"
      },
      "execution_count": null,
      "outputs": []
    },
    {
      "cell_type": "code",
      "source": [
        "room['room_id']=room['room_id'].astype('category')\n",
        "room['room_class']=room['room_class'].astype('category')"
      ],
      "metadata": {
        "id": "4f2XEni0qBDl"
      },
      "execution_count": null,
      "outputs": []
    },
    {
      "cell_type": "code",
      "source": [
        "room.info()"
      ],
      "metadata": {
        "id": "yvFXvaihqMgn"
      },
      "execution_count": null,
      "outputs": []
    },
    {
      "cell_type": "markdown",
      "source": [
        "**✈ Conclusion**\n",
        "*   4 types of room available"
      ],
      "metadata": {
        "id": "AU75c7Hx1PDs"
      }
    },
    {
      "cell_type": "markdown",
      "source": [
        "# prebooking"
      ],
      "metadata": {
        "id": "YL3kl7hFYIUZ"
      }
    },
    {
      "cell_type": "code",
      "source": [
        "prebooking=pd.read_csv('/content/drive/MyDrive/ATLIQ HOSPITALITY/fact_aggregated_bookings.csv')\n",
        "prebooking.head()"
      ],
      "metadata": {
        "id": "-mXb43mnYK2E"
      },
      "execution_count": null,
      "outputs": []
    },
    {
      "cell_type": "markdown",
      "source": [
        "**prebooking**\n",
        "           \n",
        "*   **prebooking** : *property_id* : **hotels** : *property_id*\n",
        "*   **prebooking** : *room_category* : **rooms** : *room_id*\n",
        "*   **prebooking** : *check_in_date*\t : **Date** : *date*\n",
        "\n",
        "\n",
        "\n",
        "\n",
        "\n",
        "\n",
        "\n",
        "\n",
        "\n"
      ],
      "metadata": {
        "id": "30HZbQH_Ya4J"
      }
    },
    {
      "cell_type": "code",
      "source": [
        "prebooking['check_in_date']=prebooking['check_in_date'].apply(convert_date)\n"
      ],
      "metadata": {
        "id": "ykDNXY9_YeAa"
      },
      "execution_count": null,
      "outputs": []
    },
    {
      "cell_type": "code",
      "source": [
        "prebooking['room_category']=prebooking['room_category'].astype('category')"
      ],
      "metadata": {
        "id": "93Z2jjhKrOqa"
      },
      "execution_count": null,
      "outputs": []
    },
    {
      "cell_type": "code",
      "source": [
        "prebooking.info()"
      ],
      "metadata": {
        "id": "38kN2AMjqtwI"
      },
      "execution_count": null,
      "outputs": []
    },
    {
      "cell_type": "code",
      "source": [
        "prebooking.head()"
      ],
      "metadata": {
        "id": "A7AXRdF44mqE"
      },
      "execution_count": null,
      "outputs": []
    },
    {
      "cell_type": "code",
      "source": [
        "prebooking.duplicated().sum()"
      ],
      "metadata": {
        "id": "pySKw5zcxPse"
      },
      "execution_count": null,
      "outputs": []
    },
    {
      "cell_type": "markdown",
      "source": [
        "# booking"
      ],
      "metadata": {
        "id": "Ezk0rnygrkHF"
      }
    },
    {
      "cell_type": "code",
      "source": [
        "booking=pd.read_csv('/content/drive/MyDrive/ATLIQ HOSPITALITY/fact_bookings.csv')\n",
        "booking.head()"
      ],
      "metadata": {
        "id": "smusfmxFro32"
      },
      "execution_count": null,
      "outputs": []
    },
    {
      "cell_type": "code",
      "source": [
        "booking['check_in_date']=pd.to_datetime(booking['check_in_date'],format='%Y-%m-%d')\n",
        "booking['checkout_date']=pd.to_datetime(booking['checkout_date'],format='%Y-%m-%d')\n",
        "booking['booking_date']=pd.to_datetime(booking['booking_date'],format='%Y-%m-%d')"
      ],
      "metadata": {
        "id": "_nEwunTZsRYx"
      },
      "execution_count": null,
      "outputs": []
    },
    {
      "cell_type": "code",
      "source": [
        "booking['room_category']=booking['room_category'].astype('category')\n",
        "booking['booking_platform']=booking['booking_platform'].astype('category')\n",
        "booking['booking_status']=booking['booking_status'].astype('category')"
      ],
      "metadata": {
        "id": "HTacub-oudGf"
      },
      "execution_count": null,
      "outputs": []
    },
    {
      "cell_type": "code",
      "source": [
        "booking.info()\n"
      ],
      "metadata": {
        "id": "0Pn3yGVIsLij"
      },
      "execution_count": null,
      "outputs": []
    },
    {
      "cell_type": "code",
      "source": [
        "booking.duplicated().sum()"
      ],
      "metadata": {
        "id": "mTFWiA60xUAf"
      },
      "execution_count": null,
      "outputs": []
    },
    {
      "cell_type": "code",
      "source": [
        "booking.head()"
      ],
      "metadata": {
        "id": "OhI1qp1z42Wy"
      },
      "execution_count": null,
      "outputs": []
    },
    {
      "cell_type": "code",
      "source": [
        "booking[['no_guests','ratings_given','revenue_generated','revenue_realized']].describe()"
      ],
      "metadata": {
        "id": "jRjtX2BT46so"
      },
      "execution_count": null,
      "outputs": []
    },
    {
      "cell_type": "code",
      "source": [
        "booking['booking_status'].unique()"
      ],
      "metadata": {
        "id": "1nIw8hdRHomR"
      },
      "execution_count": null,
      "outputs": []
    },
    {
      "cell_type": "markdown",
      "source": [
        "avg rating"
      ],
      "metadata": {
        "id": "3tZm49Af-SWT"
      }
    },
    {
      "cell_type": "code",
      "source": [
        "avg_rating=round(booking['ratings_given'].mean(),2)\n",
        "avg_rating"
      ],
      "metadata": {
        "id": "Tm4fnX5bH3Vs"
      },
      "execution_count": null,
      "outputs": []
    },
    {
      "cell_type": "markdown",
      "source": [
        "total null"
      ],
      "metadata": {
        "id": "DSHhJoXYQtRM"
      }
    },
    {
      "cell_type": "code",
      "source": [
        "booking['ratings_given'].isnull().sum()"
      ],
      "metadata": {
        "id": "dNUTGSxzHNd4"
      },
      "execution_count": null,
      "outputs": []
    },
    {
      "cell_type": "markdown",
      "source": [
        "cancelled null"
      ],
      "metadata": {
        "id": "HRxFQXweQwF0"
      }
    },
    {
      "cell_type": "code",
      "source": [
        "booking[booking['booking_status']=='Cancelled']['booking_status'].count()"
      ],
      "metadata": {
        "id": "D2TlU4a5DtR9"
      },
      "execution_count": null,
      "outputs": []
    },
    {
      "cell_type": "code",
      "source": [
        "#cancelled booking fill rating avg\n",
        "booking.loc[booking['booking_status']=='Cancelled', 'ratings_given'] = booking.loc[booking['booking_status']=='Cancelled', 'ratings_given'].fillna(avg_rating)"
      ],
      "metadata": {
        "id": "GCJ2sXkz_9UD"
      },
      "execution_count": null,
      "outputs": []
    },
    {
      "cell_type": "code",
      "source": [
        "booking[(booking['booking_status']=='Cancelled') & booking['ratings_given'].isnull()]['booking_status'].count()"
      ],
      "metadata": {
        "id": "HHTnnLhaOiYT"
      },
      "execution_count": null,
      "outputs": []
    },
    {
      "cell_type": "markdown",
      "source": [
        "remain null"
      ],
      "metadata": {
        "id": "z0TbdeXBQ2y_"
      }
    },
    {
      "cell_type": "code",
      "source": [
        "booking['ratings_given'].isnull().sum()"
      ],
      "metadata": {
        "id": "OarTURqJM7GU"
      },
      "execution_count": null,
      "outputs": []
    },
    {
      "cell_type": "markdown",
      "source": [
        "no show null"
      ],
      "metadata": {
        "id": "RLYFKJLJQ5V_"
      }
    },
    {
      "cell_type": "code",
      "source": [
        "booking[(booking['booking_status']=='No Show') & (booking['ratings_given'].isnull())]['booking_status'].count()"
      ],
      "metadata": {
        "id": "s_M_T1O0KuDk"
      },
      "execution_count": null,
      "outputs": []
    },
    {
      "cell_type": "code",
      "source": [
        "booking.loc[booking['booking_status']=='No Show', 'ratings_given'] = booking.loc[booking['booking_status']=='No Show', 'ratings_given'].fillna(0)"
      ],
      "metadata": {
        "id": "tjUgrm4PIlR4"
      },
      "execution_count": null,
      "outputs": []
    },
    {
      "cell_type": "code",
      "source": [
        "booking[(booking['booking_status']=='No Show') & booking['ratings_given'].isnull()]['booking_status'].count()"
      ],
      "metadata": {
        "id": "zfjIKTxIO3OF"
      },
      "execution_count": null,
      "outputs": []
    },
    {
      "cell_type": "markdown",
      "source": [
        "remain null"
      ],
      "metadata": {
        "id": "w3p7A5e4Q-4A"
      }
    },
    {
      "cell_type": "code",
      "source": [
        "booking['ratings_given'].isnull().sum()"
      ],
      "metadata": {
        "id": "uDurwQZCNLLq"
      },
      "execution_count": null,
      "outputs": []
    },
    {
      "cell_type": "markdown",
      "source": [
        "checked out null"
      ],
      "metadata": {
        "id": "D0P259mdRDZe"
      }
    },
    {
      "cell_type": "code",
      "source": [
        "booking[(booking['booking_status']=='Checked Out') & (booking['ratings_given'].isnull())]['booking_status'].count()"
      ],
      "metadata": {
        "id": "isP4IEMpIc2h"
      },
      "execution_count": null,
      "outputs": []
    },
    {
      "cell_type": "code",
      "source": [
        "booking.loc[booking['booking_status']=='Checked Out', 'ratings_given'] = booking.loc[booking['booking_status']=='Checked Out', 'ratings_given'].fillna(avg_rating)"
      ],
      "metadata": {
        "id": "ayKw4EUXIw_P"
      },
      "execution_count": null,
      "outputs": []
    },
    {
      "cell_type": "code",
      "source": [
        "booking[(booking['booking_status']=='Checked Out') & booking['ratings_given'].isnull()]['booking_status'].count()"
      ],
      "metadata": {
        "id": "lJThpDfbPDN9"
      },
      "execution_count": null,
      "outputs": []
    },
    {
      "cell_type": "markdown",
      "source": [
        "total null"
      ],
      "metadata": {
        "id": "K06LZXrvRHzJ"
      }
    },
    {
      "cell_type": "code",
      "source": [
        "booking['ratings_given'].isnull().sum()"
      ],
      "metadata": {
        "id": "KX5WmMx_SEpp"
      },
      "execution_count": null,
      "outputs": []
    },
    {
      "cell_type": "code",
      "source": [
        "booking[booking['booking_status'].isna()].count()"
      ],
      "metadata": {
        "id": "syUkU2LMNxW_"
      },
      "execution_count": null,
      "outputs": []
    },
    {
      "cell_type": "code",
      "source": [
        "booking.info()"
      ],
      "metadata": {
        "id": "IHo79bwME1F8"
      },
      "execution_count": null,
      "outputs": []
    },
    {
      "cell_type": "markdown",
      "source": [
        "▶ avg rating"
      ],
      "metadata": {
        "id": "gG0uV1UMhqPl"
      }
    },
    {
      "cell_type": "code",
      "source": [
        "booking['ratings_given'].agg(['count', 'mean'])"
      ],
      "metadata": {
        "id": "V2NKAvuZC1DH"
      },
      "execution_count": null,
      "outputs": []
    },
    {
      "cell_type": "markdown",
      "source": [
        "# analysis\n"
      ],
      "metadata": {
        "id": "pLk1ERKWxad2"
      }
    },
    {
      "cell_type": "code",
      "source": [
        "date.columns"
      ],
      "metadata": {
        "id": "DLMTNfjOUtG1"
      },
      "execution_count": null,
      "outputs": []
    },
    {
      "cell_type": "code",
      "source": [
        "hotels.columns"
      ],
      "metadata": {
        "id": "3dsjHJGMUzMj"
      },
      "execution_count": null,
      "outputs": []
    },
    {
      "cell_type": "code",
      "source": [
        "room.columns"
      ],
      "metadata": {
        "id": "3b0A8ipuU3RS"
      },
      "execution_count": null,
      "outputs": []
    },
    {
      "cell_type": "code",
      "source": [
        "prebooking.columns"
      ],
      "metadata": {
        "id": "im_c5dA-U5-E"
      },
      "execution_count": null,
      "outputs": []
    },
    {
      "cell_type": "code",
      "source": [
        "booking.columns"
      ],
      "metadata": {
        "id": "ZtqK58sOU9Th"
      },
      "execution_count": null,
      "outputs": []
    },
    {
      "cell_type": "markdown",
      "source": [
        "##**Revenue Analysis**"
      ],
      "metadata": {
        "id": "9s8b4rMJE7y_"
      }
    },
    {
      "cell_type": "markdown",
      "source": [
        "### ⚡  **revenue_realized sum**\n",
        "\n",
        "\n",
        "\n"
      ],
      "metadata": {
        "id": "NOtz6ySngVPh"
      }
    },
    {
      "cell_type": "markdown",
      "source": [
        "Total revenue generated vs revenue realized for all booking status"
      ],
      "metadata": {
        "id": "CJYfSOBb72MC"
      }
    },
    {
      "cell_type": "code",
      "source": [
        "booking[['no_guests','revenue_generated','revenue_realized']].sum()"
      ],
      "metadata": {
        "id": "4P925pTm7Ir_"
      },
      "execution_count": null,
      "outputs": []
    },
    {
      "cell_type": "markdown",
      "source": [
        "Total revenue generated vs revenue realized when booking status is cancelled"
      ],
      "metadata": {
        "id": "yoj2js0m8EB9"
      }
    },
    {
      "cell_type": "code",
      "source": [
        "booking[booking['booking_status']=='Cancelled'][['no_guests','revenue_generated','revenue_realized']].sum()"
      ],
      "metadata": {
        "id": "MD8uOKh15v9d"
      },
      "execution_count": null,
      "outputs": []
    },
    {
      "cell_type": "markdown",
      "source": [
        "Total revenue generated vs revenue realized when booking status is not cancelled i.e. No Show & checked out"
      ],
      "metadata": {
        "id": "Y9Z35_tk8MiS"
      }
    },
    {
      "cell_type": "code",
      "source": [
        "booking[booking['booking_status']!='Cancelled'][['no_guests','revenue_generated','revenue_realized']].sum()"
      ],
      "metadata": {
        "id": "bIb05KL-7O4X"
      },
      "execution_count": null,
      "outputs": []
    },
    {
      "cell_type": "markdown",
      "source": [
        "Total bookings\n"
      ],
      "metadata": {
        "id": "TdIqLOPOFZKQ"
      }
    },
    {
      "cell_type": "code",
      "source": [
        "booking['booking_id'].count()"
      ],
      "metadata": {
        "id": "Jml5ILlyhZ4Z"
      },
      "execution_count": null,
      "outputs": []
    },
    {
      "cell_type": "code",
      "source": [
        "hotel_book = booking.merge(hotels, on='property_id', how='left')\n",
        "hotel_book.head()"
      ],
      "metadata": {
        "id": "-m3rvyhOxc0t"
      },
      "execution_count": null,
      "outputs": []
    },
    {
      "cell_type": "code",
      "source": [
        "hotel_book"
      ],
      "metadata": {
        "id": "xJv-9tDuT-Q_"
      },
      "execution_count": null,
      "outputs": []
    },
    {
      "cell_type": "code",
      "source": [
        "hotel_revenue=hotel_book.groupby(['city','property_name']).agg({'revenue_realized':'sum'}).rename(columns={'revenue_realized':'Revenue in Millions'})\n",
        "hotel_revenue.reset_index(inplace=True)\n",
        "hotel_revenue['Revenue in Millions']=(hotel_revenue['Revenue in Millions']/1000000).round(2)\n",
        "hotel_revenue\n"
      ],
      "metadata": {
        "id": "CrRfKZEBVsJy"
      },
      "execution_count": null,
      "outputs": []
    },
    {
      "cell_type": "code",
      "source": [
        "revenue_pivot=hotel_revenue.pivot(index='city',columns='property_name',values='Revenue in Millions')\n",
        "revenue_pivot\n"
      ],
      "metadata": {
        "id": "2SOgTwi6surR"
      },
      "execution_count": null,
      "outputs": []
    },
    {
      "cell_type": "code",
      "source": [
        "fig = px.bar(hotel_revenue,\n",
        "             x='city',\n",
        "             y='Revenue in Millions',\n",
        "             color='property_name',  # Color bars by hotel name\n",
        "             title='City & Hotel Wise Revenue',\n",
        "             barmode='group',       # Group bars by city\n",
        "             labels={'Revenue in Millions':'Revenue in Millions'})\n",
        "fig.update_layout(plot_bgcolor='rgba(0,0,0,0)')\n",
        "fig.update_traces(texttemplate='%{y}', textposition='outside')\n",
        "fig.show()"
      ],
      "metadata": {
        "id": "JW3GX341HtNb"
      },
      "execution_count": null,
      "outputs": []
    },
    {
      "cell_type": "markdown",
      "source": [
        "**Citywise Revenue In Millions**"
      ],
      "metadata": {
        "id": "WzKStwtKI7_J"
      }
    },
    {
      "cell_type": "code",
      "source": [
        "\n",
        "city_revenue=hotel_book.groupby(['city']).agg({'revenue_realized':'sum'}).rename(columns={'revenue_realized':'Revenue in Millions'})\n",
        "city_revenue['Revenue in Millions']=(city_revenue['Revenue in Millions']/1000000).round(2)\n",
        "city_revenue.sort_values(by='Revenue in Millions',ascending=False)\n"
      ],
      "metadata": {
        "id": "t6K3kMprtKo1"
      },
      "execution_count": null,
      "outputs": []
    },
    {
      "cell_type": "code",
      "source": [
        "fig = px.pie(city_revenue,\n",
        "             values='Revenue in Millions',\n",
        "             names=city_revenue.index,\n",
        "             title='Citywise Revenue Distribution',\n",
        "             labels={'value':'Revenue in Millions'})\n",
        "fig.update_traces(textfont={'color':'white'})\n",
        "fig.update_layout(legend_title_text='City')\n",
        "fig.show()"
      ],
      "metadata": {
        "id": "reqKSD3dJinE"
      },
      "execution_count": null,
      "outputs": []
    },
    {
      "cell_type": "code",
      "source": [
        "revenue_tr=date.merge(hotel_book,how='left',left_on='date',right_on='check_in_date')\n",
        "revenue_trend=revenue_tr.groupby(['week no','property_name']).agg({'revenue_realized':'sum'}).rename(columns={'revenue_realized':'Revenue in Millions'})\n",
        "revenue_trend['Revenue in Millions']=(revenue_trend['Revenue in Millions']/1000000).round(2)\n",
        "revenue_trend.reset_index(inplace=True)\n",
        "revenue_trend"
      ],
      "metadata": {
        "id": "wXC_qc89t3t6"
      },
      "execution_count": null,
      "outputs": []
    },
    {
      "cell_type": "code",
      "source": [
        "pivot_data=revenue_trend.pivot(index='week no',columns='property_name',values='Revenue in Millions')\n",
        "fig = px.line(pivot_data,\n",
        "             x=pivot_data.index,\n",
        "             y=pivot_data.columns,\n",
        "             markers=True,\n",
        "             title='Weekly Revenue Trend')\n",
        "fig.update_layout(yaxis_title='Revenue in Millions', legend_title='Property Name')\n",
        "\n",
        "fig.show()"
      ],
      "metadata": {
        "id": "kevgaU7DMV2O"
      },
      "execution_count": null,
      "outputs": []
    },
    {
      "cell_type": "code",
      "source": [
        "# Week over Week Revenue Trend\n",
        "atliq_revenue_trend=revenue_tr.groupby(['week no']).agg({'revenue_realized':'sum'}).rename(columns={'revenue_realized':'Revenue in Millions'})\n",
        "atliq_revenue_trend['Revenue in Millions']=(atliq_revenue_trend['Revenue in Millions']/1000000).round(2)\n",
        "atliq_revenue_trend['Prev week Revenue']=atliq_revenue_trend['Revenue in Millions'].shift(1)\n",
        "atliq_revenue_trend['Change Percentage']=(((atliq_revenue_trend['Revenue in Millions']/atliq_revenue_trend['Prev week Revenue'])-1)*100).round(2)\n",
        "atliq_revenue_trend"
      ],
      "metadata": {
        "id": "ucCdxHVht60A"
      },
      "execution_count": null,
      "outputs": []
    },
    {
      "cell_type": "code",
      "source": [
        "fig = make_subplots(specs=[[{\"secondary_y\": True}]])\n",
        "\n",
        "fig.add_trace(\n",
        "    go.Bar(x=atliq_revenue_trend.index, y=atliq_revenue_trend['Revenue in Millions'], name='Revenue in Millions'),\n",
        "    secondary_y=False,)\n",
        "fig.add_trace(\n",
        "    go.Bar(x=atliq_revenue_trend.index, y=atliq_revenue_trend['Prev week Revenue'], name='Prev week Revenue'),\n",
        "    secondary_y=False,)\n",
        "fig.add_trace(\n",
        "    go.Scatter(x=atliq_revenue_trend.index, y=atliq_revenue_trend['Change Percentage'], name='Change Percentage', mode='lines+markers', marker=dict(color='black')),\n",
        "    secondary_y=True,)\n",
        "fig.update_layout(title_text='Week over Week Revenue Change',\n",
        "                  xaxis_title='Week Number',\n",
        "                  yaxis_title='Revenue in Millions',\n",
        "                  yaxis2_title='Percentage Change')\n",
        "\n",
        "fig.show()"
      ],
      "metadata": {
        "id": "RhbSLC2tNxLd"
      },
      "execution_count": null,
      "outputs": []
    },
    {
      "cell_type": "markdown",
      "source": [
        "## booking Analysis"
      ],
      "metadata": {
        "id": "mD4SiYU5maMJ"
      }
    },
    {
      "cell_type": "code",
      "source": [
        "\n",
        "# Hotelwise Bookings\n",
        "hotel_bookings=hotel_book.groupby(['city','property_name']).agg({'booking_id':'nunique'}).rename(columns={'booking_id':'Total bookings'})\n",
        "hotel_bookings.reset_index(inplace=True)\n",
        "hotel_bookings\n"
      ],
      "metadata": {
        "id": "QqLTETSSt_rU"
      },
      "execution_count": null,
      "outputs": []
    },
    {
      "cell_type": "code",
      "source": [
        "fig = px.bar(hotel_bookings,\n",
        "             x='city',\n",
        "             y='Total bookings',\n",
        "             color='property_name',  # Color bars by hotel name\n",
        "             title='City & Hotel Wise Revenue',\n",
        "             barmode='group',       # Group bars by city\n",
        "            )\n",
        "fig.show()"
      ],
      "metadata": {
        "id": "Z3sNLAyeTF4p"
      },
      "execution_count": null,
      "outputs": []
    },
    {
      "cell_type": "code",
      "source": [
        "\n",
        "# Hotelwise cancellation percentage, No Show Percentage, Check out percentage\n",
        "df1=hotel_book.groupby(['property_name','booking_status']).agg({'booking_id':'nunique'}).reset_index().pivot(index='property_name',columns='booking_status',values='booking_id')\n",
        "df2=hotel_book.groupby(['property_name']).agg({'booking_id':'nunique'}).rename(columns={'booking_id':'Toatal Bookings'})\n",
        "df3=pd.merge(df1,df2,how='inner',on='property_name')\n",
        "df3"
      ],
      "metadata": {
        "id": "gVaD-kUZuDL3"
      },
      "execution_count": null,
      "outputs": []
    },
    {
      "cell_type": "code",
      "source": [
        "\n",
        "df3['Cancellation Percentage']=df3['Cancelled']*100/df3['Toatal Bookings']\n",
        "df3['Checked Out Percentage']=df3['Checked Out']*100/df3['Toatal Bookings']\n",
        "df3['No Show Percentage']=df3['No Show']*100/df3['Toatal Bookings']\n",
        "df4=df3[['Checked Out Percentage','Cancellation Percentage','No Show Percentage']]\n",
        "df4.round(2)"
      ],
      "metadata": {
        "id": "vFqH65vLuDCX"
      },
      "execution_count": null,
      "outputs": []
    },
    {
      "cell_type": "code",
      "source": [
        "\n",
        "df4.plot(kind='bar',stacked=True)\n",
        "plt.xlabel('Percentage')\n",
        "plt.title('Hotel wise Check out, Cancellation, No Show Percentage')"
      ],
      "metadata": {
        "id": "E8u_uYByuC28"
      },
      "execution_count": null,
      "outputs": []
    },
    {
      "cell_type": "code",
      "source": [
        "\n",
        "# booking platform wise\n",
        "platform_df=hotel_book.groupby(['booking_platform']).agg({'booking_id':'nunique'}).rename(columns={'booking_id':'Total Bookings'})\n",
        "platform_df.sort_values(by='Total Bookings',ascending=False)"
      ],
      "metadata": {
        "id": "pOtbOFTtuN_E"
      },
      "execution_count": null,
      "outputs": []
    },
    {
      "cell_type": "code",
      "source": [
        "fig = px.pie(platform_df,\n",
        "             values='Total Bookings',\n",
        "             names=platform_df.index,\n",
        "             title='Platformwise Hotel Bookings Distribution')\n",
        "fig.show()"
      ],
      "metadata": {
        "id": "q4UUDQMSWZJJ"
      },
      "execution_count": null,
      "outputs": []
    },
    {
      "cell_type": "markdown",
      "source": [
        "### ⚡succesful booking"
      ],
      "metadata": {
        "id": "pK0EL0PR-0qg"
      }
    },
    {
      "cell_type": "code",
      "source": [
        "succes_book=prebooking.merge(hotels,on='property_id',how='left')\n",
        "succes_book\n"
      ],
      "metadata": {
        "id": "B8xBL8Tb5VfY"
      },
      "execution_count": null,
      "outputs": []
    },
    {
      "cell_type": "code",
      "source": [
        "succes_book=succes_book[['city','property_id','property_name','category','successful_bookings','capacity']]\n",
        "succes_book"
      ],
      "metadata": {
        "id": "IELbiTZ06Ues"
      },
      "execution_count": null,
      "outputs": []
    },
    {
      "cell_type": "code",
      "source": [
        "booked = succes_book.groupby(['city','property_name','category'])[['successful_bookings','capacity']].sum()\n",
        "booked = booked[booked != 0].dropna()\n",
        "booked"
      ],
      "metadata": {
        "id": "2n96wWp18qt9"
      },
      "execution_count": null,
      "outputs": []
    },
    {
      "cell_type": "code",
      "source": [
        "booked_p = succes_book.groupby(['city','property_name'])[['successful_bookings','capacity']].sum()\n",
        "booked_p = booked_p[booked_p != 0].dropna()\n",
        "booked_p"
      ],
      "metadata": {
        "id": "I-yLVhm3AZUA"
      },
      "execution_count": null,
      "outputs": []
    },
    {
      "cell_type": "code",
      "source": [
        "booked_c = succes_book.groupby('city')[['successful_bookings','capacity']].sum()\n",
        "booked_c = booked_c[booked_c != 0].dropna()\n",
        "booked_c"
      ],
      "metadata": {
        "id": "VF7HfnrtAkig"
      },
      "execution_count": null,
      "outputs": []
    },
    {
      "cell_type": "code",
      "source": [
        "fig = px.bar(booked_c,\n",
        "             x=booked_c.index,\n",
        "             y=['successful_bookings', 'capacity'],\n",
        "             title='Total Successful Bookings and Capacity by City',\n",
        "             barmode='group',\n",
        "             labels={'value':'Count', 'variable':'Metric'}\n",
        "            )\n",
        "fig.show()"
      ],
      "metadata": {
        "id": "_XkAAMhHYR1q"
      },
      "execution_count": null,
      "outputs": []
    },
    {
      "cell_type": "code",
      "source": [
        "total_succes=booked_c[['successful_bookings','capacity']].sum()\n",
        "total_succes = total_succes.rename(index={'successful_bookings': 'Total Successful Bookings', 'capacity': 'Total Capacity'})\n",
        "total_succes"
      ],
      "metadata": {
        "id": "muykdwWHqUz1"
      },
      "execution_count": null,
      "outputs": []
    },
    {
      "cell_type": "code",
      "source": [
        "booked_prop = succes_book.groupby('property_name')[['successful_bookings','capacity']].sum()\n",
        "booked_prop = booked_prop[booked_prop != 0].dropna()\n",
        "booked_prop"
      ],
      "metadata": {
        "id": "UC8ET9qPZ_60"
      },
      "execution_count": null,
      "outputs": []
    },
    {
      "cell_type": "markdown",
      "source": [
        "### **⚡% succesful booking**"
      ],
      "metadata": {
        "id": "Srl9BIeLA3tR"
      }
    },
    {
      "cell_type": "code",
      "source": [
        "booked['% succesful booking']=round((booked['successful_bookings']/booked['capacity'])*100,2)\n",
        "booked = booked.drop(['successful_bookings', 'capacity'], axis=1)\n",
        "booked\n"
      ],
      "metadata": {
        "id": "YsFY3N3zA_X5"
      },
      "execution_count": null,
      "outputs": []
    },
    {
      "cell_type": "code",
      "source": [
        "booked_p['% succesful booking']=round((booked_p['successful_bookings']/booked_p['capacity'])*100,2)\n",
        "booked_p= booked_p.drop(['successful_bookings', 'capacity'], axis=1)\n",
        "booked_p"
      ],
      "metadata": {
        "id": "1Ve1j7-1BOxe"
      },
      "execution_count": null,
      "outputs": []
    },
    {
      "cell_type": "code",
      "source": [
        "booked_c['% succesful booking']=round((booked_c['successful_bookings']/booked_c['capacity'])*100,2)\n",
        "booked_c= booked_c.drop(['successful_bookings', 'capacity'], axis=1)\n",
        "booked_c"
      ],
      "metadata": {
        "id": "jed8nbtVBPa8"
      },
      "execution_count": null,
      "outputs": []
    },
    {
      "cell_type": "code",
      "source": [
        "fig = px.pie(booked_c,\n",
        "             values='% succesful booking',\n",
        "             names=booked_c.index,\n",
        "             title='Successful Booking Percentage by City')\n",
        "fig.show()"
      ],
      "metadata": {
        "id": "cKF9FMCka344"
      },
      "execution_count": null,
      "outputs": []
    },
    {
      "cell_type": "code",
      "source": [
        "total_succes_in_p=round((total_succes['Total Successful Bookings']/total_succes['Total Capacity'])*100,2)\n",
        "total_succes_in_p"
      ],
      "metadata": {
        "id": "KrWmE3-trF4y"
      },
      "execution_count": null,
      "outputs": []
    },
    {
      "cell_type": "code",
      "source": [
        "\n",
        "booked_prop['% succesful booking']=round((booked_prop['successful_bookings']/booked_prop['capacity'])*100,2)\n",
        "booked_prop= booked_prop.drop(['successful_bookings', 'capacity'], axis=1)\n",
        "booked_prop"
      ],
      "metadata": {
        "id": "VgM5DcgPbWKu"
      },
      "execution_count": null,
      "outputs": []
    },
    {
      "cell_type": "code",
      "source": [
        "fig = px.pie(booked_prop,\n",
        "             values='% succesful booking',\n",
        "             names=booked_prop.index,\n",
        "             title='Successful Booking Percentage by property')\n",
        "fig.show()"
      ],
      "metadata": {
        "id": "edVyrrlVb1aQ"
      },
      "execution_count": null,
      "outputs": []
    },
    {
      "cell_type": "code",
      "source": [
        "\n",
        "rooms_df=room.merge(booking,how='left',left_on='room_id',right_on='room_category')\n",
        "rooms_df.head()"
      ],
      "metadata": {
        "id": "UdoFBWHiuQtc"
      },
      "execution_count": null,
      "outputs": []
    },
    {
      "cell_type": "code",
      "source": [
        "# Room Categorywise Bookings\n",
        "room_bookings=rooms_df.groupby(['room_class']).agg({'booking_id':'nunique'})\n",
        "room_bookings['Percentage']=room_bookings['booking_id']*100/room_bookings['booking_id'].sum()\n",
        "room_bookings['Percentage']=room_bookings['Percentage'].round(2)\n",
        "room_bookings\n"
      ],
      "metadata": {
        "id": "9V2Isj-1uQpx"
      },
      "execution_count": null,
      "outputs": []
    },
    {
      "cell_type": "code",
      "source": [
        "# Room Caegory wise Booking Percentage\n",
        "room_bookings['Percentage'].plot(kind='pie',subplots=True,autopct='%0.2f')"
      ],
      "metadata": {
        "id": "UetT2AcduQfw"
      },
      "execution_count": null,
      "outputs": []
    },
    {
      "cell_type": "code",
      "source": [
        "# Booking Trends weekly\n",
        "weekly_bookings=revenue_tr.groupby(['week no','property_name']).agg({'booking_id':'nunique'}).rename(columns={'booking_id':'Total Bookings'})\n",
        "weekly_bookings.reset_index(inplace=True)\n",
        "weekly_bookings_pivot=weekly_bookings.pivot(index='week no',columns='property_name',values='Total Bookings')\n",
        "weekly_bookings_pivot\n"
      ],
      "metadata": {
        "id": "L6_QSFzSucAN"
      },
      "execution_count": null,
      "outputs": []
    },
    {
      "cell_type": "code",
      "source": [
        "\n",
        "weekly_bookings_pivot.plot(kind='line',marker='o')\n",
        "plt.ylabel('Total Bookings')\n",
        "plt.title('Weekly Hotel Bookings')"
      ],
      "metadata": {
        "id": "AWZ6oQjdub7i"
      },
      "execution_count": null,
      "outputs": []
    },
    {
      "cell_type": "code",
      "source": [
        "\n",
        "x=revenue_tr.groupby(['week no','booking_status']).agg({'booking_id':'nunique'})\n",
        "x.reset_index(inplace=True)\n",
        "x\n"
      ],
      "metadata": {
        "id": "y6wy7QQxub4Z"
      },
      "execution_count": null,
      "outputs": []
    },
    {
      "cell_type": "code",
      "source": [
        "\n",
        "y=revenue_tr.groupby(['week no']).agg({'booking_id':'nunique'}).rename(columns={'booking_id':'Total Bookings'})\n",
        "y.reset_index(inplace=True)\n",
        "y"
      ],
      "metadata": {
        "id": "lZc6LzoYub1b"
      },
      "execution_count": null,
      "outputs": []
    },
    {
      "cell_type": "code",
      "source": [
        "\n",
        "x1=x.pivot(index='week no',columns='booking_status',values='booking_id')\n",
        "hotel_booking=pd.merge(x1,y,on='week no')\n",
        "hotel_booking['Cancellation Percentage']=hotel_booking['Cancelled']*100/hotel_booking['Total Bookings']\n",
        "hotel_booking['Checked Out Percentage']=hotel_booking['Checked Out']*100/hotel_booking['Total Bookings']\n",
        "hotel_booking['No Show Percentage']=hotel_booking['No Show']*100/hotel_booking['Total Bookings']\n",
        "booking_status_trend=hotel_booking[['week no','Checked Out Percentage','Cancellation Percentage','No Show Percentage']]\n",
        "booking_status_trend"
      ],
      "metadata": {
        "id": "NH8KUV2zubxu"
      },
      "execution_count": null,
      "outputs": []
    },
    {
      "cell_type": "code",
      "source": [
        "\n",
        "x1=booking_status_trend.set_index('week no')\n",
        "x1.plot(kind='line',marker='o')\n",
        "plt.ylabel('Percentage')\n",
        "plt.title('Weekly Booking Status')"
      ],
      "metadata": {
        "id": "T0te4ERHumwK"
      },
      "execution_count": null,
      "outputs": []
    },
    {
      "cell_type": "markdown",
      "source": [
        "## **Occupancy Analysis**"
      ],
      "metadata": {
        "id": "eweH7WNvdSRz"
      }
    },
    {
      "cell_type": "markdown",
      "source": [
        "### ⚡**sum of capacity**"
      ],
      "metadata": {
        "id": "Wz7GfdIL-onF"
      }
    },
    {
      "cell_type": "code",
      "source": [
        "capi=hotels.merge(prebooking,on='property_id',how='outer').merge(room,left_on='room_category',right_on='room_id',how='outer')"
      ],
      "metadata": {
        "id": "PsOLxtYExxP4"
      },
      "execution_count": null,
      "outputs": []
    },
    {
      "cell_type": "code",
      "source": [
        "capi=capi[['city','property_id','property_name','category','room_class','room_id','successful_bookings','capacity']]"
      ],
      "metadata": {
        "id": "oidN_Wxvx3mg"
      },
      "execution_count": null,
      "outputs": []
    },
    {
      "cell_type": "code",
      "source": [
        "capi.head()"
      ],
      "metadata": {
        "id": "2OqET16cy707"
      },
      "execution_count": null,
      "outputs": []
    },
    {
      "cell_type": "code",
      "source": [
        "max_cap=capi.groupby(['city','property_id','property_name','category','room_class'])['capacity'].agg('max').dropna()\n",
        "max_cap.reset_index()"
      ],
      "metadata": {
        "id": "Ws_5fvugzFxR"
      },
      "execution_count": null,
      "outputs": []
    },
    {
      "cell_type": "code",
      "source": [
        "max_cap_per_room = capi.groupby(['city', 'property_name', 'room_class'])['capacity'].max().reset_index()\n",
        "sum_max_cap = max_cap_per_room.groupby(['city', 'property_name'])['capacity'].sum()\n",
        "sum_max_cap.reset_index()"
      ],
      "metadata": {
        "id": "qTzl48I72dnX"
      },
      "execution_count": null,
      "outputs": []
    },
    {
      "cell_type": "code",
      "source": [
        "sum_max_cap_city = max_cap_per_room.groupby('city')['capacity'].sum()\n",
        "sum_max_cap_city = sum_max_cap_city.rename_axis('city').reset_index(name='Total Capacity')\n",
        "sum_max_cap_city"
      ],
      "metadata": {
        "id": "KQn729HD2OYH"
      },
      "execution_count": null,
      "outputs": []
    },
    {
      "cell_type": "code",
      "source": [
        "total_capacity=sum_max_cap_city['Total Capacity'].sum()\n",
        "total_capacity"
      ],
      "metadata": {
        "id": "Ibv39TsJmaqp"
      },
      "execution_count": null,
      "outputs": []
    },
    {
      "cell_type": "code",
      "source": [
        "\n",
        "oc=hotels.merge(prebooking,how='left',on='property_id')\n",
        "occ_df=date.merge(oc,how='left',left_on='date',right_on='check_in_date')\n",
        "occ_df.head()"
      ],
      "metadata": {
        "id": "Cuf7IBqSupqI"
      },
      "execution_count": null,
      "outputs": []
    },
    {
      "cell_type": "code",
      "source": [
        "#Hotelwise Occupancy\n",
        "hotel_occ=occ_df.groupby(['city','property_name']).agg({'successful_bookings':'sum','capacity':'sum'})\n",
        "hotel_occ=hotel_occ[hotel_occ != 0].dropna()\n",
        "hotel_occ['Occupancy']=hotel_occ['successful_bookings']*100/hotel_occ['capacity']\n",
        "hotel_occ.reset_index(inplace=True)\n",
        "\n",
        "hotel_occ['Occupancy']=hotel_occ['Occupancy'].round(2)\n",
        "hotel_occ"
      ],
      "metadata": {
        "id": "VSqjo-0_ustM"
      },
      "execution_count": null,
      "outputs": []
    },
    {
      "cell_type": "code",
      "source": [
        "\n",
        "hotel_occ_pivot=hotel_occ.pivot(index='city',columns='property_name',values='Occupancy')\n",
        "hotel_occ_pivot.plot(kind='barh')\n",
        "plt.xlabel('Occupancy Percentage')\n",
        "plt.title('City & Hotel wise Occupancy')"
      ],
      "metadata": {
        "id": "WShZE85wusnM"
      },
      "execution_count": null,
      "outputs": []
    },
    {
      "cell_type": "code",
      "source": [
        "# Room Class wise Occupancy\n",
        "room_occ=room.merge(occ_df,how='left',left_on='room_id',right_on='room_category')\n",
        "room_occ_df=room_occ.groupby(['room_class']).agg({'successful_bookings':'sum','capacity':'sum'})\n",
        "room_occ_df['Occupancy']=room_occ_df['successful_bookings']*100/room_occ_df['capacity']\n",
        "room_occ_df['Occupancy']=room_occ_df['Occupancy'].round(2)\n",
        "room_occ_df\n"
      ],
      "metadata": {
        "id": "4P31zeIuushT"
      },
      "execution_count": null,
      "outputs": []
    },
    {
      "cell_type": "code",
      "source": [
        "room_df=room_occ_df[['Occupancy']]\n",
        "room_df=room_df.sort_values(by='Occupancy')\n",
        "room_df"
      ],
      "metadata": {
        "id": "ZUJNxYiQvA-z"
      },
      "execution_count": null,
      "outputs": []
    },
    {
      "cell_type": "code",
      "source": [
        "ax=room_df.plot(kind='barh',legend=False)\n",
        "plt.xlabel('Occupancy Percentage')\n",
        "plt.title('Room Class Wise Occupancy')\n",
        "for index, value in enumerate(room_df['Occupancy']):\n",
        "    ax.text(value, index, str(value))\n",
        "plt.show()"
      ],
      "metadata": {
        "id": "LDMZHhWsvA7u"
      },
      "execution_count": null,
      "outputs": []
    },
    {
      "cell_type": "code",
      "source": [
        "occ_df.head()"
      ],
      "metadata": {
        "id": "6IEMqXfseb34"
      },
      "execution_count": null,
      "outputs": []
    },
    {
      "cell_type": "code",
      "source": [
        "# Daywise Occupancy\n",
        "\n",
        "occ_df['Day No']=occ_df['date'].dt.dayofweek\n",
        "day_occ=occ_df.groupby(['day','Day No','property_name']).agg({'successful_bookings':'sum','capacity':'sum'})\n",
        "day_occ['Occupancy']=day_occ['successful_bookings']*100/day_occ['capacity']\n",
        "day_occx=day_occ[['Occupancy']]\n",
        "z=day_occx.reset_index()\n",
        "z.sort_values(by='Day No')"
      ],
      "metadata": {
        "id": "2z_vSCFZvA4R"
      },
      "execution_count": null,
      "outputs": []
    },
    {
      "cell_type": "code",
      "source": [
        "z_pivot=z.pivot(index='Day No',columns='property_name',values='Occupancy')\n",
        "z_pivot.plot(kind='line',marker='o')\n",
        "plt.ylabel('Occupancy Percentage')\n",
        "plt.title('Daywise Occupancy')"
      ],
      "metadata": {
        "id": "3tT-X2zkvA1D"
      },
      "execution_count": null,
      "outputs": []
    },
    {
      "cell_type": "code",
      "source": [
        "weekly_occ=occ_df.groupby(['week no','property_name']).agg({'successful_bookings':'sum','capacity':'sum'})\n",
        "weekly_occx=weekly_occ.reset_index()\n",
        "weekly_occx['Occupancy']=weekly_occx['successful_bookings']*100/weekly_occx['capacity']\n",
        "weekly_occx"
      ],
      "metadata": {
        "id": "qBbxPMzQvAyP"
      },
      "execution_count": null,
      "outputs": []
    },
    {
      "cell_type": "code",
      "source": [
        "weekly_occx_pivot=weekly_occx.pivot(index='week no',columns='property_name',values='Occupancy')\n",
        "fig = px.line(weekly_occx_pivot,\n",
        "             x=weekly_occx_pivot.index,\n",
        "             y=weekly_occx_pivot.columns,\n",
        "             markers=True,\n",
        "             title='Weekly Occupancy Trend')\n",
        "fig.update_layout(yaxis_title='Occupancy Percentage', legend_title='Property Name')\n",
        "fig.show()"
      ],
      "metadata": {
        "id": "nMzklYCwffJm"
      },
      "execution_count": null,
      "outputs": []
    },
    {
      "cell_type": "markdown",
      "source": [
        "### ⚡**Daily average rate Analysis**"
      ],
      "metadata": {
        "id": "oro26A68fu-Q"
      }
    },
    {
      "cell_type": "code",
      "source": [
        "adr=revenue_tr.groupby(['property_name']).agg({'booking_id':'nunique','revenue_realized':'sum'})\n",
        "\n",
        "\n",
        "adr['ADR']=adr['revenue_realized']/adr['booking_id']\n",
        "adr['ADR']=adr['ADR'].round(0)\n",
        "adrx=adr[['ADR']]\n",
        "adry=adrx.sort_values(by='ADR')\n",
        "adrx"
      ],
      "metadata": {
        "id": "4lFTdSquvUGn"
      },
      "execution_count": null,
      "outputs": []
    },
    {
      "cell_type": "code",
      "source": [
        "ax=adry.plot(kind='barh',legend=False)\n",
        "plt.xlabel('ADR')\n",
        "plt.title('Hotelwise ADR')\n",
        "for index, value in enumerate(adry['ADR']):\n",
        "    ax.text(value, index, str(value))\n",
        "plt.show()"
      ],
      "metadata": {
        "id": "Asg_Shj1vUDa"
      },
      "execution_count": null,
      "outputs": []
    },
    {
      "cell_type": "code",
      "source": [
        "min_date=date['date'].min()\n",
        "max_date=date['date'].max()\n",
        "no_of_days=(max_date-min_date)/np.timedelta64(1,'D')\n",
        "no_of_days"
      ],
      "metadata": {
        "id": "zFksAJmSvUAH"
      },
      "execution_count": null,
      "outputs": []
    },
    {
      "cell_type": "code",
      "source": [
        "#DBRN\n",
        "DBRN=adr[['booking_id']]/no_of_days\n",
        "DBRN['booking_id']=DBRN['booking_id'].round(0)\n",
        "DBRNx=DBRN.sort_values(by='booking_id')\n"
      ],
      "metadata": {
        "id": "VIpGVniKvT7E"
      },
      "execution_count": null,
      "outputs": []
    },
    {
      "cell_type": "code",
      "source": [
        "ax=DBRNx.plot(kind='barh',legend=False)\n",
        "plt.xlabel('DBRN')\n",
        "plt.title('Hotelwise DBRN')\n",
        "for index, value in enumerate(DBRNx['booking_id']):\n",
        "    ax.text(value, index, str(value))\n",
        "plt.show()"
      ],
      "metadata": {
        "id": "rIhLrDGIvT0y"
      },
      "execution_count": null,
      "outputs": []
    },
    {
      "cell_type": "code",
      "source": [
        "#DSRN\n",
        "hotel_capacity=pd.merge(hotels,prebooking,how='left',on='property_id').groupby(['property_name']).agg({'capacity':'sum'})\n",
        "hotel_capacity['DSRN']=hotel_capacity/no_of_days\n",
        "hotel_capacity['DSRN']=hotel_capacity['DSRN'].round(0)\n",
        "hotel_capacity\n",
        "hotel_capacityx=hotel_capacity.sort_values(by='DSRN')\n",
        "hotel_capacityy=hotel_capacityx[['DSRN']]\n",
        "hotel_capacityy"
      ],
      "metadata": {
        "id": "CCNlL1wavTxj"
      },
      "execution_count": null,
      "outputs": []
    },
    {
      "cell_type": "code",
      "source": [
        "\n",
        "ax=hotel_capacityy.plot(kind='barh',legend=False)\n",
        "plt.xlabel('DSRN')\n",
        "plt.title('Hotelwise DSRN')\n",
        "for index, value in enumerate(hotel_capacityy['DSRN']):\n",
        "    ax.text(value, index, str(value))\n",
        "plt.show()\n"
      ],
      "metadata": {
        "id": "-xjisc_BvTtq"
      },
      "execution_count": null,
      "outputs": []
    },
    {
      "cell_type": "code",
      "source": [
        "# DURN\n",
        "m=revenue_tr[revenue_tr['booking_status']=='Checked Out']\n",
        "n=m.groupby(['property_name']).agg({'booking_id':'nunique'})\n",
        "n['DURN']=n['booking_id']/no_of_days\n",
        "n['DURN']=n['DURN'].round(0)\n",
        "n1=n.sort_values(by='DURN')\n",
        "n2=n1[['DURN']]\n",
        "n2"
      ],
      "metadata": {
        "id": "Uk5LUA1UvTp5"
      },
      "execution_count": null,
      "outputs": []
    },
    {
      "cell_type": "code",
      "source": [
        "\n",
        "ax=n2.plot(kind='barh',legend=False)\n",
        "plt.xlabel('DURN')\n",
        "plt.title('Hotelwise DURN')\n",
        "for index, value in enumerate(n2['DURN']):\n",
        "    ax.text(value, index, str(value))\n",
        "plt.show()\n"
      ],
      "metadata": {
        "id": "nLxSQPowvrv1"
      },
      "execution_count": null,
      "outputs": []
    },
    {
      "cell_type": "markdown",
      "source": [
        "### ⚡**✈total cancellation**"
      ],
      "metadata": {
        "id": "9pvA2FbeDWLu"
      }
    },
    {
      "cell_type": "code",
      "source": [
        "can=booking.merge(hotels,on='property_id',how='left')\n",
        "can"
      ],
      "metadata": {
        "id": "iBvELyMlDxEM"
      },
      "execution_count": null,
      "outputs": []
    },
    {
      "cell_type": "code",
      "source": [
        "can=can[['city','property_name','category','booking_platform','booking_status']]\n",
        "can"
      ],
      "metadata": {
        "id": "YpYjVtoEFD2a"
      },
      "execution_count": null,
      "outputs": []
    },
    {
      "cell_type": "code",
      "source": [
        "can.dtypes"
      ],
      "metadata": {
        "id": "dmqSefFlGbwy"
      },
      "execution_count": null,
      "outputs": []
    },
    {
      "cell_type": "code",
      "source": [
        "result1 = can.groupby(['city', 'property_name', 'category', 'booking_platform'])['booking_status'].value_counts().unstack()\n",
        "result = result1[['Cancelled', 'No Show', 'Checked Out']]\n",
        "result['Total'] = result['Cancelled'] + result['No Show'] + result['Checked Out']\n",
        "result = result[result != 0].dropna()\n",
        "result\n"
      ],
      "metadata": {
        "id": "g9-eJDxaL4yG"
      },
      "execution_count": null,
      "outputs": []
    },
    {
      "cell_type": "code",
      "source": [
        "# Select only 'Cancelled' and 'Total' columns\n",
        "result_final = result[['Cancelled', 'Total']]\n",
        "result_final"
      ],
      "metadata": {
        "id": "XkWJSKNfMgfK"
      },
      "execution_count": null,
      "outputs": []
    },
    {
      "cell_type": "code",
      "source": [
        "result['rate of cancellation in %']=round((result_final['Cancelled']/result_final['Total'])*100,2)\n",
        "\n",
        "result['rate of cancellation in %']\n"
      ],
      "metadata": {
        "id": "t8jxtbRMMof4"
      },
      "execution_count": null,
      "outputs": []
    },
    {
      "cell_type": "code",
      "source": [
        "result2 = can.groupby(['city', 'property_name', 'category'])['booking_status'].value_counts().unstack()\n",
        "result = result2[['Cancelled', 'No Show', 'Checked Out']]\n",
        "result['Total'] = result['Cancelled'] + result['No Show'] + result['Checked Out']\n",
        "result=result[result != 0].dropna()\n",
        "\n",
        "result"
      ],
      "metadata": {
        "id": "NGcgG0YrJmIv"
      },
      "execution_count": null,
      "outputs": []
    },
    {
      "cell_type": "code",
      "source": [
        "# Select only 'Cancelled' and 'Total' columns\n",
        "result_final = result[['Cancelled', 'Total']]\n",
        "result_final"
      ],
      "metadata": {
        "id": "1VBO7Mi_b9Xf"
      },
      "execution_count": null,
      "outputs": []
    },
    {
      "cell_type": "code",
      "source": [
        "result['rate of cancellation in %']=round((result_final['Cancelled']/result_final['Total'])*100,2)\n",
        "\n",
        "result['rate of cancellation in %']\n"
      ],
      "metadata": {
        "id": "Iet2PwiOcFew"
      },
      "execution_count": null,
      "outputs": []
    },
    {
      "cell_type": "code",
      "source": [
        "result3 = can.groupby(['city', 'property_name'])['booking_status'].value_counts().unstack()\n",
        "result = result3[['Cancelled', 'No Show', 'Checked Out']]\n",
        "result['Total'] = result['Cancelled'] + result['No Show'] + result['Checked Out']\n",
        "result=result[result != 0].dropna()\n",
        "result"
      ],
      "metadata": {
        "id": "mp-zGRwgJ3_a"
      },
      "execution_count": null,
      "outputs": []
    },
    {
      "cell_type": "code",
      "source": [
        "# Select only 'Cancelled' and 'Total' columns\n",
        "result_final = result[['Cancelled', 'Total']]\n",
        "result_final"
      ],
      "metadata": {
        "id": "DUie8_rwc9Sx"
      },
      "execution_count": null,
      "outputs": []
    },
    {
      "cell_type": "code",
      "source": [
        "result['rate of cancellation in %']=round((result_final['Cancelled']/result_final['Total'])*100,2)\n",
        "\n",
        "result['rate of cancellation in %']\n"
      ],
      "metadata": {
        "id": "RtCrlY0jcx5P"
      },
      "execution_count": null,
      "outputs": []
    },
    {
      "cell_type": "code",
      "source": [
        "result4 = can.groupby(['city', 'property_name'])['booking_status'].value_counts().unstack()\n",
        "result = result4[['Cancelled', 'No Show', 'Checked Out']]\n",
        "result=result[result != 0].dropna()\n",
        "result['Total'] = result['Cancelled'] + result['No Show'] + result['Checked Out']\n",
        "result"
      ],
      "metadata": {
        "id": "v12eKc3ZJ8SK"
      },
      "execution_count": null,
      "outputs": []
    },
    {
      "cell_type": "code",
      "source": [
        "# Select only 'Cancelled' and 'Total' columns\n",
        "result_final = result[['Cancelled', 'Total']]\n",
        "result_final"
      ],
      "metadata": {
        "id": "-l0j4xVSdJcL"
      },
      "execution_count": null,
      "outputs": []
    },
    {
      "cell_type": "code",
      "source": [
        "result['rate of cancellation in %']=round((result_final['Cancelled']/result_final['Total'])*100,2)\n",
        "\n",
        "result['rate of cancellation in %']\n"
      ],
      "metadata": {
        "id": "SITgRhujdr5O"
      },
      "execution_count": null,
      "outputs": []
    },
    {
      "cell_type": "code",
      "source": [
        "result5 = can.groupby('city')['booking_status'].value_counts().unstack()\n",
        "result = result5[['Cancelled', 'No Show', 'Checked Out']]\n",
        "result=result[result != 0].dropna()\n",
        "result['Total'] = result['Cancelled'] + result['No Show'] + result['Checked Out']\n",
        "result"
      ],
      "metadata": {
        "id": "5p4OqXIgKC-8"
      },
      "execution_count": null,
      "outputs": []
    },
    {
      "cell_type": "code",
      "source": [
        "# Select only 'Cancelled' and 'Total' columns\n",
        "result_final = result[['Cancelled', 'Total']]\n",
        "result_final"
      ],
      "metadata": {
        "id": "Ox787qCOdlA2"
      },
      "execution_count": null,
      "outputs": []
    },
    {
      "cell_type": "code",
      "source": [
        "result['rate of cancellation in %']=round((result_final['Cancelled']/result_final['Total'])*100,2)\n",
        "\n",
        "result['rate of cancellation in %']\n"
      ],
      "metadata": {
        "id": "yoq4U_iLeEix"
      },
      "execution_count": null,
      "outputs": []
    }
  ]
}